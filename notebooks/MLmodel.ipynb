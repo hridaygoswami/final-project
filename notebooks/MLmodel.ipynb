{
 "cells": [
  {
   "cell_type": "code",
   "execution_count": 1,
   "metadata": {},
   "outputs": [
    {
     "name": "stdout",
     "output_type": "stream",
     "text": [
      "Hello world\n"
     ]
    }
   ],
   "source": [
    "print(\"Hello world\")"
   ]
  },
  {
   "cell_type": "code",
   "execution_count": 2,
   "metadata": {},
   "outputs": [],
   "source": [
    "import pandas as pd"
   ]
  },
  {
   "cell_type": "code",
   "execution_count": 10,
   "metadata": {},
   "outputs": [],
   "source": [
    "df = pd.read_csv(\n",
    "    r\"D:\\College\\SEM-8\\final-project\\data\\test data\\tabular-actgan-65d5ecd0c8fb3ea751ae69f8-data_preview.csv\"\n",
    ")"
   ]
  },
  {
   "cell_type": "code",
   "execution_count": 11,
   "metadata": {},
   "outputs": [
    {
     "data": {
      "text/html": [
       "<div>\n",
       "<style scoped>\n",
       "    .dataframe tbody tr th:only-of-type {\n",
       "        vertical-align: middle;\n",
       "    }\n",
       "\n",
       "    .dataframe tbody tr th {\n",
       "        vertical-align: top;\n",
       "    }\n",
       "\n",
       "    .dataframe thead th {\n",
       "        text-align: right;\n",
       "    }\n",
       "</style>\n",
       "<table border=\"1\" class=\"dataframe\">\n",
       "  <thead>\n",
       "    <tr style=\"text-align: right;\">\n",
       "      <th></th>\n",
       "      <th>Instance ID</th>\n",
       "      <th>Service</th>\n",
       "      <th>File Size</th>\n",
       "      <th>Programming Language</th>\n",
       "      <th>Framework</th>\n",
       "      <th>Network Traffic</th>\n",
       "      <th>Storage Used</th>\n",
       "      <th>Recommended Instance Type</th>\n",
       "    </tr>\n",
       "  </thead>\n",
       "  <tbody>\n",
       "    <tr>\n",
       "      <th>0</th>\n",
       "      <td>i-3456789abcdef3</td>\n",
       "      <td>Database</td>\n",
       "      <td>5 MB</td>\n",
       "      <td>Python</td>\n",
       "      <td>Django</td>\n",
       "      <td>40 MB/s</td>\n",
       "      <td>5 GB</td>\n",
       "      <td>t2.micro</td>\n",
       "    </tr>\n",
       "    <tr>\n",
       "      <th>1</th>\n",
       "      <td>i-89abcdef8</td>\n",
       "      <td>API Gateway</td>\n",
       "      <td>500 MB</td>\n",
       "      <td>SQL</td>\n",
       "      <td>NaN</td>\n",
       "      <td>10 MB/s</td>\n",
       "      <td>100 GB</td>\n",
       "      <td>t2.medium</td>\n",
       "    </tr>\n",
       "    <tr>\n",
       "      <th>2</th>\n",
       "      <td>i-56789abcdef5</td>\n",
       "      <td>Data Streaming</td>\n",
       "      <td>10 MB</td>\n",
       "      <td>SQL</td>\n",
       "      <td>NaN</td>\n",
       "      <td>30 MB/s</td>\n",
       "      <td>5 GB</td>\n",
       "      <td>t2.micro</td>\n",
       "    </tr>\n",
       "    <tr>\n",
       "      <th>3</th>\n",
       "      <td>i-cdef0123456789ab</td>\n",
       "      <td>Content Management System (CMS)</td>\n",
       "      <td>10 MB</td>\n",
       "      <td>Python</td>\n",
       "      <td>Django</td>\n",
       "      <td>5 MB/s</td>\n",
       "      <td>50 GB</td>\n",
       "      <td>t2.micro</td>\n",
       "    </tr>\n",
       "    <tr>\n",
       "      <th>4</th>\n",
       "      <td>i-9abcdef9</td>\n",
       "      <td>Serverless Function</td>\n",
       "      <td>10 GB</td>\n",
       "      <td>Java</td>\n",
       "      <td>TensorFlow</td>\n",
       "      <td>40 MB/s</td>\n",
       "      <td>10 GB</td>\n",
       "      <td>t2.small</td>\n",
       "    </tr>\n",
       "    <tr>\n",
       "      <th>...</th>\n",
       "      <td>...</td>\n",
       "      <td>...</td>\n",
       "      <td>...</td>\n",
       "      <td>...</td>\n",
       "      <td>...</td>\n",
       "      <td>...</td>\n",
       "      <td>...</td>\n",
       "      <td>...</td>\n",
       "    </tr>\n",
       "    <tr>\n",
       "      <th>4995</th>\n",
       "      <td>i-89abcdef8</td>\n",
       "      <td>Static Content Delivery Network (CDN)</td>\n",
       "      <td>100 MB</td>\n",
       "      <td>Python</td>\n",
       "      <td>Varies</td>\n",
       "      <td>50 MB/s</td>\n",
       "      <td>100 GB</td>\n",
       "      <td>m5.large</td>\n",
       "    </tr>\n",
       "    <tr>\n",
       "      <th>4996</th>\n",
       "      <td>i-fedcba0987654321</td>\n",
       "      <td>Content Management System (CMS)</td>\n",
       "      <td>10 GB</td>\n",
       "      <td>SQL</td>\n",
       "      <td>NaN</td>\n",
       "      <td>10 MB/s</td>\n",
       "      <td>20 GB</td>\n",
       "      <td>t2.medium</td>\n",
       "    </tr>\n",
       "    <tr>\n",
       "      <th>4997</th>\n",
       "      <td>i-6789abcdef6</td>\n",
       "      <td>Data Streaming</td>\n",
       "      <td>100 MB</td>\n",
       "      <td>Python</td>\n",
       "      <td>Node.js</td>\n",
       "      <td>5 MB/s</td>\n",
       "      <td>2 GB</td>\n",
       "      <td>t2.small</td>\n",
       "    </tr>\n",
       "    <tr>\n",
       "      <th>4998</th>\n",
       "      <td>i-3456789abcdef3</td>\n",
       "      <td>Serverless Function</td>\n",
       "      <td>5 MB</td>\n",
       "      <td>Python</td>\n",
       "      <td>Varies</td>\n",
       "      <td>50 MB/s</td>\n",
       "      <td>2 GB</td>\n",
       "      <td>t2.small</td>\n",
       "    </tr>\n",
       "    <tr>\n",
       "      <th>4999</th>\n",
       "      <td>i-89abcdef8</td>\n",
       "      <td>Static Content Delivery Network (CDN)</td>\n",
       "      <td>2 GB</td>\n",
       "      <td>SQL</td>\n",
       "      <td>Spring Batch</td>\n",
       "      <td>50 MB/s</td>\n",
       "      <td>5 GB</td>\n",
       "      <td>t2.small</td>\n",
       "    </tr>\n",
       "  </tbody>\n",
       "</table>\n",
       "<p>5000 rows × 8 columns</p>\n",
       "</div>"
      ],
      "text/plain": [
       "             Instance ID                                Service File Size  \\\n",
       "0       i-3456789abcdef3                               Database      5 MB   \n",
       "1            i-89abcdef8                            API Gateway    500 MB   \n",
       "2         i-56789abcdef5                         Data Streaming     10 MB   \n",
       "3     i-cdef0123456789ab        Content Management System (CMS)     10 MB   \n",
       "4             i-9abcdef9                    Serverless Function     10 GB   \n",
       "...                  ...                                    ...       ...   \n",
       "4995         i-89abcdef8  Static Content Delivery Network (CDN)    100 MB   \n",
       "4996  i-fedcba0987654321        Content Management System (CMS)     10 GB   \n",
       "4997       i-6789abcdef6                         Data Streaming    100 MB   \n",
       "4998    i-3456789abcdef3                    Serverless Function      5 MB   \n",
       "4999         i-89abcdef8  Static Content Delivery Network (CDN)      2 GB   \n",
       "\n",
       "     Programming Language     Framework Network Traffic Storage Used  \\\n",
       "0                  Python        Django         40 MB/s         5 GB   \n",
       "1                     SQL           NaN         10 MB/s       100 GB   \n",
       "2                     SQL           NaN         30 MB/s         5 GB   \n",
       "3                  Python        Django          5 MB/s        50 GB   \n",
       "4                    Java    TensorFlow         40 MB/s        10 GB   \n",
       "...                   ...           ...             ...          ...   \n",
       "4995               Python        Varies         50 MB/s       100 GB   \n",
       "4996                  SQL           NaN         10 MB/s        20 GB   \n",
       "4997               Python       Node.js          5 MB/s         2 GB   \n",
       "4998               Python        Varies         50 MB/s         2 GB   \n",
       "4999                  SQL  Spring Batch         50 MB/s         5 GB   \n",
       "\n",
       "     Recommended Instance Type  \n",
       "0                     t2.micro  \n",
       "1                    t2.medium  \n",
       "2                     t2.micro  \n",
       "3                     t2.micro  \n",
       "4                     t2.small  \n",
       "...                        ...  \n",
       "4995                  m5.large  \n",
       "4996                 t2.medium  \n",
       "4997                  t2.small  \n",
       "4998                  t2.small  \n",
       "4999                  t2.small  \n",
       "\n",
       "[5000 rows x 8 columns]"
      ]
     },
     "execution_count": 11,
     "metadata": {},
     "output_type": "execute_result"
    }
   ],
   "source": [
    "df"
   ]
  },
  {
   "cell_type": "code",
   "execution_count": 12,
   "metadata": {},
   "outputs": [
    {
     "data": {
      "text/plain": [
       "File Size\n",
       "500 MB      709\n",
       "2 GB        637\n",
       "5 MB        614\n",
       "10 MB       482\n",
       "100 MB      460\n",
       "10 GB       377\n",
       "50 GB       338\n",
       "200 MB      330\n",
       "1 GB        305\n",
       "100 KB/s    286\n",
       "5 GB        249\n",
       "50 MB       213\n",
       "Name: count, dtype: int64"
      ]
     },
     "execution_count": 12,
     "metadata": {},
     "output_type": "execute_result"
    }
   ],
   "source": [
    "df['File Size'].value_counts()"
   ]
  },
  {
   "cell_type": "code",
   "execution_count": 14,
   "metadata": {},
   "outputs": [
    {
     "name": "stdout",
     "output_type": "stream",
     "text": [
      "<class 'pandas.core.frame.DataFrame'>\n",
      "RangeIndex: 5000 entries, 0 to 4999\n",
      "Data columns (total 8 columns):\n",
      " #   Column                     Non-Null Count  Dtype \n",
      "---  ------                     --------------  ----- \n",
      " 0   Instance ID                5000 non-null   object\n",
      " 1   Service                    5000 non-null   object\n",
      " 2   File Size                  5000 non-null   object\n",
      " 3   Programming Language       5000 non-null   object\n",
      " 4   Framework                  4020 non-null   object\n",
      " 5   Network Traffic            5000 non-null   object\n",
      " 6   Storage Used               5000 non-null   object\n",
      " 7   Recommended Instance Type  5000 non-null   object\n",
      "dtypes: object(8)\n",
      "memory usage: 312.6+ KB\n"
     ]
    }
   ],
   "source": [
    "df.info()"
   ]
  },
  {
   "cell_type": "code",
   "execution_count": 16,
   "metadata": {},
   "outputs": [
    {
     "data": {
      "text/plain": [
       "Instance ID                    0\n",
       "Service                        0\n",
       "File Size                      0\n",
       "Programming Language           0\n",
       "Framework                    980\n",
       "Network Traffic                0\n",
       "Storage Used                   0\n",
       "Recommended Instance Type      0\n",
       "dtype: int64"
      ]
     },
     "execution_count": 16,
     "metadata": {},
     "output_type": "execute_result"
    }
   ],
   "source": [
    "df.isnull().sum()"
   ]
  },
  {
   "cell_type": "code",
   "execution_count": 18,
   "metadata": {},
   "outputs": [
    {
     "data": {
      "text/plain": [
       "Framework\n",
       "Varies          548\n",
       "AWS Lambda      535\n",
       "Go kit          482\n",
       "Apache Kafka    351\n",
       "Spring Batch    344\n",
       "TensorFlow      315\n",
       "React           279\n",
       "Flask-Mail      258\n",
       "Node.js         254\n",
       "Flask           227\n",
       "Django          219\n",
       "Apache Spark    208\n",
       "Name: count, dtype: int64"
      ]
     },
     "execution_count": 18,
     "metadata": {},
     "output_type": "execute_result"
    }
   ],
   "source": [
    "df['Framework'].value_counts()"
   ]
  },
  {
   "cell_type": "code",
   "execution_count": 24,
   "metadata": {},
   "outputs": [
    {
     "data": {
      "text/plain": [
       "1       NaN\n",
       "2       NaN\n",
       "5       NaN\n",
       "15      NaN\n",
       "16      NaN\n",
       "       ... \n",
       "4981    NaN\n",
       "4988    NaN\n",
       "4991    NaN\n",
       "4993    NaN\n",
       "4996    NaN\n",
       "Name: Framework, Length: 980, dtype: object"
      ]
     },
     "execution_count": 24,
     "metadata": {},
     "output_type": "execute_result"
    }
   ],
   "source": [
    "df[df['Framework'].isna() == True]['Framework']"
   ]
  },
  {
   "cell_type": "code",
   "execution_count": 31,
   "metadata": {},
   "outputs": [
    {
     "data": {
      "text/plain": [
       "array([nan], dtype=object)"
      ]
     },
     "execution_count": 31,
     "metadata": {},
     "output_type": "execute_result"
    }
   ],
   "source": [
    "df[df['Framework'].isna()==True]['Framework'].unique()"
   ]
  },
  {
   "cell_type": "code",
   "execution_count": 34,
   "metadata": {},
   "outputs": [
    {
     "data": {
      "text/plain": [
       "array(['Django', nan, 'TensorFlow', 'Spring Batch', 'Varies',\n",
       "       'AWS Lambda', 'Flask-Mail', 'React', 'Flask', 'Node.js',\n",
       "       'Apache Kafka', 'Go kit', 'Apache Spark'], dtype=object)"
      ]
     },
     "execution_count": 34,
     "metadata": {},
     "output_type": "execute_result"
    }
   ],
   "source": [
    "df[\"Framework\"].unique()"
   ]
  },
  {
   "cell_type": "code",
   "execution_count": 35,
   "metadata": {},
   "outputs": [
    {
     "data": {
      "text/plain": [
       "array(['Database', 'API Gateway', 'Data Streaming',\n",
       "       'Content Management System (CMS)', 'Serverless Function',\n",
       "       'Static Website', 'Collaborative Workspace', 'Real-time Analytics',\n",
       "       'Chat Application', 'Microservice',\n",
       "       'Static Content Delivery Network (CDN)', 'Machine Learning Model',\n",
       "       'Email Service', 'Batch Processing', 'Mobile Application Backend'],\n",
       "      dtype=object)"
      ]
     },
     "execution_count": 35,
     "metadata": {},
     "output_type": "execute_result"
    }
   ],
   "source": [
    "df['Service'].unique()"
   ]
  },
  {
   "cell_type": "code",
   "execution_count": 37,
   "metadata": {},
   "outputs": [
    {
     "data": {
      "text/plain": [
       "Index(['Static Content Delivery Network (CDN)', 'Serverless Function',\n",
       "       'Chat Application', 'Machine Learning Model', 'Database',\n",
       "       'Batch Processing', 'Data Streaming', 'Content Management System (CMS)',\n",
       "       'Collaborative Workspace', 'Static Website', 'Real-time Analytics',\n",
       "       'Mobile Application Backend', 'Microservice', 'Email Service',\n",
       "       'API Gateway'],\n",
       "      dtype='object', name='Service')"
      ]
     },
     "execution_count": 37,
     "metadata": {},
     "output_type": "execute_result"
    }
   ],
   "source": [
    "df['Service'].value_counts().keys()"
   ]
  },
  {
   "cell_type": "code",
   "execution_count": 40,
   "metadata": {},
   "outputs": [
    {
     "data": {
      "text/plain": [
       "[607, 605, 470, 336, 316, 316, 314, 303, 288, 285, 264, 252, 236, 220, 188]"
      ]
     },
     "execution_count": 40,
     "metadata": {},
     "output_type": "execute_result"
    }
   ],
   "source": [
    "list(df[\"Service\"].value_counts())"
   ]
  },
  {
   "cell_type": "code",
   "execution_count": 53,
   "metadata": {},
   "outputs": [],
   "source": [
    "service_list = []\n",
    "counter = 0\n",
    "for i in range(len(df['Service'].value_counts().keys())):\n",
    "    service_list.append([df[\"Service\"].value_counts().keys()[i], [list(df[\"Service\"].value_counts())[i], counter]])\n",
    "    counter += 1"
   ]
  },
  {
   "cell_type": "code",
   "execution_count": null,
   "metadata": {},
   "outputs": [],
   "source": []
  },
  {
   "cell_type": "code",
   "execution_count": null,
   "metadata": {},
   "outputs": [],
   "source": []
  }
 ],
 "metadata": {
  "kernelspec": {
   "display_name": "Python 3",
   "language": "python",
   "name": "python3"
  },
  "language_info": {
   "codemirror_mode": {
    "name": "ipython",
    "version": 3
   },
   "file_extension": ".py",
   "mimetype": "text/x-python",
   "name": "python",
   "nbconvert_exporter": "python",
   "pygments_lexer": "ipython3",
   "version": "3.11.4"
  }
 },
 "nbformat": 4,
 "nbformat_minor": 2
}
